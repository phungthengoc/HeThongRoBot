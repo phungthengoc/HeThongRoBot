{
 "cells": [
  {
   "cell_type": "code",
   "execution_count": 1,
   "metadata": {},
   "outputs": [],
   "source": [
    "import sympy\n",
    "from sympy.abc import alpha,x,y,v,w,R,theta\n",
    "from sympy import symbols , Matrix\n",
    "sympy.init_printing(use_latex=\"mathjax\", fontsize='16pt')\n",
    "time = symbols('t')\n",
    "d = v*time\n",
    "beta = (d/w)*sympy.tan(alpha)\n",
    "r = w/sympy.tan(alpha)\n",
    "\n",
    "fxu = Matrix([[x-r*sympy.sin(theta) + r*sympy.sin(theta+beta)],\n",
    "              [y+r*sympy.cos(theta)- r*sympy.cos(theta+beta)],\n",
    "              [theta+beta]])\n",
    "F = fxu.jacobian(Matrix([x, y, theta]))"
   ]
  },
  {
   "cell_type": "code",
   "execution_count": 2,
   "metadata": {},
   "outputs": [
    {
     "data": {
      "text/latex": [
       "$$\\left[\\begin{matrix}1 & 0 & - \\frac{w \\cos{\\left (\\theta \\right )}}{\\tan{\\left (\\alpha \\right )}} + \\frac{w \\cos{\\left (\\frac{t v \\tan{\\left (\\alpha \\right )}}{w} + \\theta \\right )}}{\\tan{\\left (\\alpha \\right )}}\\\\0 & 1 & - \\frac{w \\sin{\\left (\\theta \\right )}}{\\tan{\\left (\\alpha \\right )}} + \\frac{w \\sin{\\left (\\frac{t v \\tan{\\left (\\alpha \\right )}}{w} + \\theta \\right )}}{\\tan{\\left (\\alpha \\right )}}\\\\0 & 0 & 1\\end{matrix}\\right]$$"
      ],
      "text/plain": [
       "⎡                        ⎛t⋅v⋅tan(α)    ⎞⎤\n",
       "⎢                   w⋅cos⎜────────── + θ⎟⎥\n",
       "⎢        w⋅cos(θ)        ⎝    w         ⎠⎥\n",
       "⎢1  0  - ──────── + ─────────────────────⎥\n",
       "⎢         tan(α)            tan(α)       ⎥\n",
       "⎢                                        ⎥\n",
       "⎢                        ⎛t⋅v⋅tan(α)    ⎞⎥\n",
       "⎢                   w⋅sin⎜────────── + θ⎟⎥\n",
       "⎢        w⋅sin(θ)        ⎝    w         ⎠⎥\n",
       "⎢0  1  - ──────── + ─────────────────────⎥\n",
       "⎢         tan(α)            tan(α)       ⎥\n",
       "⎢                                        ⎥\n",
       "⎣0  0                  1                 ⎦"
      ]
     },
     "execution_count": 2,
     "metadata": {},
     "output_type": "execute_result"
    }
   ],
   "source": [
    "F"
   ]
  },
  {
   "cell_type": "code",
   "execution_count": 3,
   "metadata": {},
   "outputs": [
    {
     "data": {
      "text/latex": [
       "$$\\left[\\begin{matrix}1 & 0 & - R \\cos{\\left (\\theta \\right )} + R \\cos{\\left (\\beta + \\theta \\right )}\\\\0 & 1 & - R \\sin{\\left (\\theta \\right )} + R \\sin{\\left (\\beta + \\theta \\right )}\\\\0 & 0 & 1\\end{matrix}\\right]$$"
      ],
      "text/plain": [
       "⎡1  0  -R⋅cos(θ) + R⋅cos(β + θ)⎤\n",
       "⎢                              ⎥\n",
       "⎢0  1  -R⋅sin(θ) + R⋅sin(β + θ)⎥\n",
       "⎢                              ⎥\n",
       "⎣0  0             1            ⎦"
      ]
     },
     "execution_count": 3,
     "metadata": {},
     "output_type": "execute_result"
    }
   ],
   "source": [
    "#Reduce common expressions\n",
    "B, R = symbols('beta, R')\n",
    "F = F.subs((d/w)*sympy.tan(alpha), B)\n",
    "F.subs(w/sympy.tan(alpha), R)\n",
    "\n"
   ]
  },
  {
   "cell_type": "code",
   "execution_count": 4,
   "metadata": {},
   "outputs": [
    {
     "data": {
      "text/latex": [
       "$$\\left[\\begin{matrix}t \\cos{\\left (\\beta + \\theta \\right )} & \\frac{d \\left(\\tan^{2}{\\left (\\alpha \\right )} + 1\\right) \\cos{\\left (\\beta + \\theta \\right )}}{\\tan{\\left (\\alpha \\right )}} - \\frac{w \\left(- \\tan^{2}{\\left (\\alpha \\right )} - 1\\right) \\sin{\\left (\\theta \\right )}}{\\tan^{2}{\\left (\\alpha \\right )}} + \\frac{w \\left(- \\tan^{2}{\\left (\\alpha \\right )} - 1\\right) \\sin{\\left (\\beta + \\theta \\right )}}{\\tan^{2}{\\left (\\alpha \\right )}}\\\\t \\sin{\\left (\\beta + \\theta \\right )} & \\frac{d \\left(\\tan^{2}{\\left (\\alpha \\right )} + 1\\right) \\sin{\\left (\\beta + \\theta \\right )}}{\\tan{\\left (\\alpha \\right )}} + \\frac{w \\left(- \\tan^{2}{\\left (\\alpha \\right )} - 1\\right) \\cos{\\left (\\theta \\right )}}{\\tan^{2}{\\left (\\alpha \\right )}} - \\frac{w \\left(- \\tan^{2}{\\left (\\alpha \\right )} - 1\\right) \\cos{\\left (\\beta + \\theta \\right )}}{\\tan^{2}{\\left (\\alpha \\right )}}\\\\\\frac{t}{R} & \\frac{d \\left(\\tan^{2}{\\left (\\alpha \\right )} + 1\\right)}{w}\\end{matrix}\\right]$$"
      ],
      "text/plain": [
       "⎡                ⎛   2       ⎞                ⎛     2       ⎞            ⎛    \n",
       "⎢              d⋅⎝tan (α) + 1⎠⋅cos(β + θ)   w⋅⎝- tan (α) - 1⎠⋅sin(θ)   w⋅⎝- ta\n",
       "⎢t⋅cos(β + θ)  ────────────────────────── - ──────────────────────── + ───────\n",
       "⎢                        tan(α)                        2                      \n",
       "⎢                                                   tan (α)                   \n",
       "⎢                                                                             \n",
       "⎢                ⎛   2       ⎞                ⎛     2       ⎞            ⎛    \n",
       "⎢              d⋅⎝tan (α) + 1⎠⋅sin(β + θ)   w⋅⎝- tan (α) - 1⎠⋅cos(θ)   w⋅⎝- ta\n",
       "⎢t⋅sin(β + θ)  ────────────────────────── + ──────────────────────── - ───────\n",
       "⎢                        tan(α)                        2                      \n",
       "⎢                                                   tan (α)                   \n",
       "⎢                                                                             \n",
       "⎢                                                  ⎛   2       ⎞              \n",
       "⎢     t                                          d⋅⎝tan (α) + 1⎠              \n",
       "⎢     ─                                          ───────────────              \n",
       "⎣     R                                                 w                     \n",
       "\n",
       " 2       ⎞           ⎤\n",
       "n (α) - 1⎠⋅sin(β + θ)⎥\n",
       "─────────────────────⎥\n",
       "      2              ⎥\n",
       "   tan (α)           ⎥\n",
       "                     ⎥\n",
       " 2       ⎞           ⎥\n",
       "n (α) - 1⎠⋅cos(β + θ)⎥\n",
       "─────────────────────⎥\n",
       "      2              ⎥\n",
       "   tan (α)           ⎥\n",
       "                     ⎥\n",
       "                     ⎥\n",
       "                     ⎥\n",
       "                     ⎥\n",
       "                     ⎦"
      ]
     },
     "execution_count": 4,
     "metadata": {},
     "output_type": "execute_result"
    }
   ],
   "source": [
    "V = fxu.jacobian(Matrix([v, alpha]))\n",
    "V = V.subs(sympy.tan(alpha)/w, 1/R) \n",
    "V = V.subs(time*v/R, B)\n",
    "V = V.subs(time*v, 'd')\n",
    "V"
   ]
  },
  {
   "cell_type": "code",
   "execution_count": 5,
   "metadata": {},
   "outputs": [
    {
     "data": {
      "text/latex": [
       "$$\\left[\\begin{matrix}\\frac{- p_{x} + x}{\\sqrt{\\left(p_{x} - x\\right)^{2} + \\left(p_{y} - y\\right)^{2}}} & \\frac{- p_{y} + y}{\\sqrt{\\left(p_{x} - x\\right)^{2} + \\left(p_{y} - y\\right)^{2}}} & 0\\\\- \\frac{- p_{y} + y}{\\left(p_{x} - x\\right)^{2} + \\left(p_{y} - y\\right)^{2}} & - \\frac{p_{x} - x}{\\left(p_{x} - x\\right)^{2} + \\left(p_{y} - y\\right)^{2}} & -1\\end{matrix}\\right]$$"
      ],
      "text/plain": [
       "⎡          -pₓ + x                      -p_y + y             ⎤\n",
       "⎢───────────────────────────  ───────────────────────────  0 ⎥\n",
       "⎢   ________________________     ________________________    ⎥\n",
       "⎢  ╱         2            2     ╱         2            2     ⎥\n",
       "⎢╲╱  (pₓ - x)  + (p_y - y)    ╲╱  (pₓ - x)  + (p_y - y)      ⎥\n",
       "⎢                                                            ⎥\n",
       "⎢       -(-p_y + y)                   -(pₓ - x)              ⎥\n",
       "⎢  ──────────────────────       ──────────────────────     -1⎥\n",
       "⎢          2            2               2            2       ⎥\n",
       "⎣  (pₓ - x)  + (p_y - y)        (pₓ - x)  + (p_y - y)        ⎦"
      ]
     },
     "execution_count": 5,
     "metadata": {},
     "output_type": "execute_result"
    }
   ],
   "source": [
    "#This is clearly nonlinear, so we need linearize $h$ at $\\mathbf x$ by taking its Jacobian.\n",
    "px, py = symbols('p_x, p_y')\n",
    "z = Matrix([[sympy.sqrt((px-x)**2 + (py-y)**2)],\n",
    "            [sympy.atan2(py-y, px-x) - theta]])\n",
    "z.jacobian(Matrix([x, y, theta]))\n"
   ]
  },
  {
   "cell_type": "code",
   "execution_count": 6,
   "metadata": {},
   "outputs": [],
   "source": [
    "from math import sqrt\n",
    "\n",
    "def H_of(x, landmark_pos):\n",
    "    \"\"\" compute Jacobian of H matrix where h(x) computes \n",
    "    the range and bearing to a landmark for state x \"\"\"\n",
    "\n",
    "    px = landmark_pos[0]\n",
    "    py = landmark_pos[1]\n",
    "    hyp = (px - x[0, 0])**2 + (py - x[1, 0])**2\n",
    "    dist = sqrt(hyp)\n",
    "\n",
    "    H = array(\n",
    "        [[-(px - x[0, 0]) / dist, -(py - x[1, 0]) / dist, 0],\n",
    "         [ (py - x[1, 0]) / hyp,  -(px - x[0, 0]) / hyp, -1]])\n",
    "    return H"
   ]
  },
  {
   "cell_type": "code",
   "execution_count": 7,
   "metadata": {},
   "outputs": [],
   "source": [
    "\n",
    "#We also need to define a function that converts the system state into a measurement.\n",
    "from math import atan2\n",
    "\n",
    "def Hx(x, landmark_pos):\n",
    "    \"\"\" takes a state variable and returns the measurement\n",
    "    that would correspond to that state.\n",
    "    \"\"\"\n",
    "    px = landmark_pos[0]\n",
    "    py = landmark_pos[1]\n",
    "    dist = sqrt((px - x[0, 0])**2 + (py - x[1, 0])**2)\n",
    "\n",
    "    Hx = array([[dist],\n",
    "                [atan2(py - x[1, 0], px - x[0, 0]) - x[2, 0]]])\n",
    "    return Hx\n"
   ]
  },
  {
   "cell_type": "code",
   "execution_count": 10,
   "metadata": {},
   "outputs": [],
   "source": [
    "from filterpy.kalman import ExtendedKalmanFilter as EKF\n",
    "from numpy import array, sqrt\n",
    "class RobotEKF(EKF):\n",
    "    def __init__(self, dt, wheelbase, std_vel, std_steer):\n",
    "        EKF.__init__(self, 3, 2, 2)\n",
    "        self.dt = dt\n",
    "        self.wheelbase = wheelbase\n",
    "        self.std_vel = std_vel\n",
    "        self.std_steer = std_steer\n",
    "\n",
    "        a, x, y, v, w, theta, time = symbols(\n",
    "            'a, x, y, v, w, theta, t')\n",
    "        d = v*time\n",
    "        beta = (d/w)*sympy.tan(a)\n",
    "        r = w/sympy.tan(a)\n",
    "    \n",
    "        self.fxu = Matrix(\n",
    "            [[x-r*sympy.sin(theta)+r*sympy.sin(theta+beta)],\n",
    "             [y+r*sympy.cos(theta)-r*sympy.cos(theta+beta)],\n",
    "             [theta+beta]])\n",
    "\n",
    "        self.F_j = self.fxu.jacobian(Matrix([x, y, theta]))\n",
    "        self.V_j = self.fxu.jacobian(Matrix([v, a]))\n",
    "\n",
    "        # save dictionary and it's variables for later use\n",
    "        self.subs = {x: 0, y: 0, v:0, a:0, \n",
    "                     time:dt, w:wheelbase, theta:0}\n",
    "        self.x_x, self.x_y, = x, y \n",
    "        self.v, self.a, self.theta = v, a, theta\n",
    "\n",
    "    def predict(self, u):\n",
    "        self.x = self.move(self.x, u, self.dt)\n",
    "\n",
    "        self.subs[self.theta] = self.x[2, 0]\n",
    "        self.subs[self.v] = u[0]\n",
    "        self.subs[self.a] = u[1]\n",
    "\n",
    "        F = array(self.F_j.evalf(subs=self.subs)).astype(float)\n",
    "        V = array(self.V_j.evalf(subs=self.subs)).astype(float)\n",
    "\n",
    "        # covariance of motion noise in control space\n",
    "        M = array([[self.std_vel*u[0]**2, 0], \n",
    "                   [0, self.std_steer**2]])\n",
    "\n",
    "        self.P = np.dot(F, self.P).dot(F.T) + np.dot(V, M).dot(V.T)\n",
    "\n",
    "    def move(self, x, u, dt):\n",
    "        hdg = x[2, 0]\n",
    "        vel = u[0]\n",
    "        steering_angle = u[1]\n",
    "        dist = vel * dt\n",
    "\n",
    "        if abs(steering_angle) > 0.001: # is robot turning?\n",
    "            beta = (dist / self.wheelbase) * tan(steering_angle)\n",
    "            r = self.wheelbase / tan(steering_angle) # radius\n",
    "\n",
    "            dx = np.array([[-r*sin(hdg) + r*sin(hdg + beta)], \n",
    "                           [r*cos(hdg) - r*cos(hdg + beta)], \n",
    "                           [beta]])\n",
    "        else: # moving in straight line\n",
    "            dx = np.array([[dist*cos(hdg)], \n",
    "                           [dist*sin(hdg)], \n",
    "                           [0]])\n",
    "        return x+dx"
   ]
  },
  {
   "cell_type": "code",
   "execution_count": 11,
   "metadata": {},
   "outputs": [],
   "source": [
    "def residual(a, b):\n",
    "    \"\"\" compute residual (a-b) between measurements containing \n",
    "    [range, bearing]. Bearing is normalized to [-pi, pi)\"\"\"\n",
    "    y = a - b\n",
    "    y[1] = y[1] % (2 * np.pi)    # force in range [0, 2 pi)\n",
    "    if y[1] > np.pi:             # move to [-pi, pi)\n",
    "        y[1] -= 2 * np.pi\n",
    "    return y"
   ]
  },
  {
   "cell_type": "code",
   "execution_count": 12,
   "metadata": {},
   "outputs": [],
   "source": [
    "from filterpy.stats import plot_covariance_ellipse\n",
    "from math import sqrt, tan, cos, sin, atan2\n",
    "import matplotlib.pyplot as plt\n",
    "\n",
    "dt = 1.0\n",
    "\n",
    "def z_landmark(lmark, sim_pos, std_rng, std_brg):\n",
    "    x, y = sim_pos[0, 0], sim_pos[1, 0]\n",
    "    d = np.sqrt((lmark[0] - x)**2 + (lmark[1] - y)**2)  \n",
    "    a = atan2(lmark[1] - y, lmark[0] - x) - sim_pos[2, 0]\n",
    "    z = np.array([[d + randn()*std_rng],\n",
    "                  [a + randn()*std_brg]])\n",
    "    return z\n",
    "\n",
    "def ekf_update(ekf, z, landmark):\n",
    "    ekf.update(z, HJacobian=H_of, Hx=Hx, \n",
    "               residual=residual,\n",
    "               args=(landmark), hx_args=(landmark))\n",
    "    \n",
    "                \n",
    "def run_localization(landmarks, std_vel, std_steer, \n",
    "                     std_range, std_bearing,\n",
    "                     step=10, ellipse_step=20, ylim=None):\n",
    "    ekf = RobotEKF(dt, wheelbase=0.5, std_vel=std_vel, \n",
    "                   std_steer=std_steer)\n",
    "    ekf.x = array([[2, 6, .3]]).T # x, y, steer angle\n",
    "    ekf.P = np.diag([.1, .1, .1])\n",
    "    ekf.R = np.diag([std_range**2, std_bearing**2])\n",
    "\n",
    "    sim_pos = ekf.x.copy() # simulated position\n",
    "    # steering command (vel, steering angle radians)\n",
    "    u = array([1.1, .01]) \n",
    "\n",
    "    plt.figure()\n",
    "    plt.scatter(landmarks[:, 0], landmarks[:, 1],\n",
    "                marker='s', s=60)\n",
    "    \n",
    "    track = []\n",
    "    for i in range(200):\n",
    "        sim_pos = ekf.move(sim_pos, u, dt/10.) # simulate robot\n",
    "        track.append(sim_pos)\n",
    "\n",
    "        if i % step == 0:\n",
    "            ekf.predict(u=u)\n",
    "\n",
    "            if i % ellipse_step == 0:\n",
    "                plot_covariance_ellipse(\n",
    "                    (ekf.x[0,0], ekf.x[1,0]), ekf.P[0:2, 0:2], \n",
    "                     std=6, facecolor='k', alpha=0.3)\n",
    "\n",
    "            x, y = sim_pos[0, 0], sim_pos[1, 0]\n",
    "            for lmark in landmarks:\n",
    "                z = z_landmark(lmark, sim_pos,\n",
    "                               std_range, std_bearing)\n",
    "                ekf_update(ekf, z, lmark)\n",
    "\n",
    "            if i % ellipse_step == 0:\n",
    "                plot_covariance_ellipse(\n",
    "                    (ekf.x[0,0], ekf.x[1,0]), ekf.P[0:2, 0:2],\n",
    "                    std=6, facecolor='g', alpha=0.8)\n",
    "    track = np.array(track)\n",
    "    plt.plot(track[:, 0], track[:,1], color='k', lw=2)\n",
    "    plt.axis('equal')\n",
    "    plt.title(\"EKF Robot localization\")\n",
    "    if ylim is not None: plt.ylim(*ylim)\n",
    "    plt.show()\n",
    "    return ekf"
   ]
  },
  {
   "cell_type": "code",
   "execution_count": 22,
   "metadata": {
    "scrolled": true
   },
   "outputs": [
    {
     "data": {
      "image/png": "[encoded data removed]",
      "text/plain": [
       "<Figure size 432x288 with 1 Axes>"
      ]
     },
     "metadata": {
      "needs_background": "light"
     },
     "output_type": "display_data"
    },
    {
     "name": "stdout",
     "output_type": "stream",
     "text": [
      "Final P: [0.00827675 0.00910409 0.00076325]\n"
     ]
    }
   ],
   "source": [
    "landmarks = array([[5, 10], [10,  5], [15, 15], [20,  5], [15, 10], \n",
    "                   [10,14], [23, 14], [25, 20], [10, 20]])\n",
    "\n",
    "ekf = run_localization(\n",
    "    landmarks, std_vel=0.1, std_steer=np.radians(1),\n",
    "    std_range=0.3, std_bearing=0.1, ylim=(0, 21))\n",
    "print('Final P:', ekf.P.diagonal())\n"
   ]
  },
  {
   "cell_type": "code",
   "execution_count": null,
   "metadata": {},
   "outputs": [],
   "source": [
    "As you probably suspected, one landmark produces a very bad result. Conversely, a large number of landmarks allows us to make very accurate estimates."
   ]
  }
 ],
 "metadata": {
  "kernelspec": {
   "display_name": "Python 3",
   "language": "python",
   "name": "python3"
  },
  "language_info": {
   "codemirror_mode": {
    "name": "ipython",
    "version": 3
   },
   "file_extension": ".py",
   "mimetype": "text/x-python",
   "name": "python",
   "nbconvert_exporter": "python",
   "pygments_lexer": "ipython3",
   "version": "3.7.3"
  }
 },
 "nbformat": 4,
 "nbformat_minor": 2
}
